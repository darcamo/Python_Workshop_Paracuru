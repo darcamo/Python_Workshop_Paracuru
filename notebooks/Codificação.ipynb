{
 "cells": [
  {
   "cell_type": "markdown",
   "metadata": {},
   "source": [
    "[Link para baixar livros](http://noticias.universia.com.br/destaque/noticia/2011/10/07/876201/50-livros-classicos-em-portugues-download-gratis.html)"
   ]
  },
  {
   "cell_type": "markdown",
   "metadata": {},
   "source": [
    "# Codificação simples por substituição de letras\n",
    "\n",
    "Nesse exemplo vamos mostra uma codificação simples onde cada letra do alfabeto é substituída por outra. \n",
    "\n",
    "Por exemplo, vamos encriptar a mensagem, \"Ataque ao entardecer\" com a chave \n",
    "VJZBGNFEPLITMXDWKQUCRYAHSO. Primeiro escrevemos as letras do alfabeto e depois a chave embaixo.\n",
    "\n",
    "| A | B | C | D | E | F | G | H | I | J | K | L | M | N | O | P | Q | R | S | T | U | V | W | X | Y | Z | \n",
    "| - | - | - | - | - | - | - | - | - | - | - | - | - | - | - | - | - | - | - | - | - | - | - | - | - | - |\n",
    "| V | J | Z | B | G | N | F | E | P | L | I | T | M | X | D | W | K | Q | U | C | R | Y | A | H | S | O |\n",
    "\n",
    "Para encriptar a mensagem basta olhar cada letra do alfabeto e substituir por sua chave.\n",
    "\n",
    "A encripta como V, T encripta como C, C encripta como Z, e assim por diante. A mensagem \"**Ataque ao entardecer**\" encripta como to \"**Vcvkrg vd gxcvqbgzgq**\".\n",
    "\n",
    "Agora vamos criar um programa em Python que encripta uma mensagem usando esse método."
   ]
  },
  {
   "cell_type": "code",
   "execution_count": 48,
   "metadata": {},
   "outputs": [],
   "source": [
    "# Primeiro alguns imports que vamos precisar\n",
    "import string  # Util para pegar a lista de letras sem ter que digitar manualmente\n",
    "import random  # Vamos usar para embaralhar os elementos de uma lista\n",
    "import copy    # Util para copiar objetos mutáveis"
   ]
  },
  {
   "cell_type": "markdown",
   "metadata": {},
   "source": [
    "Primeiro vamos gerar uma lista contendo todas as letras do alfabeto. Poderíamos digitar manualmente, mas `string.ascii_lowercase` já nos fornece todas as letras."
   ]
  },
  {
   "cell_type": "code",
   "execution_count": 49,
   "metadata": {},
   "outputs": [
    {
     "name": "stdout",
     "output_type": "stream",
     "text": [
      "['a', 'b', 'c', 'd', 'e', 'f', 'g', 'h', 'i', 'j', 'k', 'l', 'm', 'n', 'o', 'p', 'q', 'r', 's', 't', 'u', 'v', 'w', 'x', 'y', 'z']\n"
     ]
    }
   ],
   "source": [
    "letras = list(string.ascii_lowercase)\n",
    "print(letras)"
   ]
  },
  {
   "cell_type": "markdown",
   "metadata": {},
   "source": [
    "Agora vamos gerar uma chave."
   ]
  },
  {
   "cell_type": "code",
   "execution_count": 50,
   "metadata": {},
   "outputs": [
    {
     "name": "stdout",
     "output_type": "stream",
     "text": [
      "['b', 'l', 'n', 'w', 't', 'p', 'f', 'x', 'y', 'd', 'e', 'j', 'a', 'h', 'z', 'g', 's', 'i', 'm', 'o', 'c', 'q', 'k', 'r', 'v', 'u']\n"
     ]
    }
   ],
   "source": [
    "# letras_codificadas = list(\"VJZBGNFEPLITMXDWKQUCRYAHSO\".lower())\n",
    "\n",
    "letras_codificadas = copy.copy(letras)\n",
    "# Embaralha a lista (in place)\n",
    "random.shuffle(letras_codificadas)\n",
    "print(letras_codificadas)"
   ]
  },
  {
   "cell_type": "markdown",
   "metadata": {},
   "source": [
    "Para facilitar, camos colocar as letras e suas chaves em um dicionário."
   ]
  },
  {
   "cell_type": "code",
   "execution_count": 51,
   "metadata": {},
   "outputs": [
    {
     "name": "stdout",
     "output_type": "stream",
     "text": [
      "{'a': 'b', 'b': 'l', 'c': 'n', 'd': 'w', 'e': 't', 'f': 'p', 'g': 'f', 'h': 'x', 'i': 'y', 'j': 'd', 'k': 'e', 'l': 'j', 'm': 'a', 'n': 'h', 'o': 'z', 'p': 'g', 'q': 's', 'r': 'i', 's': 'm', 't': 'o', 'u': 'c', 'v': 'q', 'w': 'k', 'x': 'r', 'y': 'v', 'z': 'u'}\n"
     ]
    }
   ],
   "source": [
    "codigo = {chave:valor for chave, valor in zip(letras, letras_codificadas)}\n",
    "print(codigo)"
   ]
  },
  {
   "cell_type": "markdown",
   "metadata": {},
   "source": [
    "Vamos usar a mesma chave para as letras maiúsculas e minúsculas."
   ]
  },
  {
   "cell_type": "code",
   "execution_count": 52,
   "metadata": {},
   "outputs": [
    {
     "name": "stdout",
     "output_type": "stream",
     "text": [
      "{'a': 'b', 'b': 'l', 'c': 'n', 'd': 'w', 'e': 't', 'f': 'p', 'g': 'f', 'h': 'x', 'i': 'y', 'j': 'd', 'k': 'e', 'l': 'j', 'm': 'a', 'n': 'h', 'o': 'z', 'p': 'g', 'q': 's', 'r': 'i', 's': 'm', 't': 'o', 'u': 'c', 'v': 'q', 'w': 'k', 'x': 'r', 'y': 'v', 'z': 'u', 'A': 'B', 'B': 'L', 'C': 'N', 'D': 'W', 'E': 'T', 'F': 'P', 'G': 'F', 'H': 'X', 'I': 'Y', 'J': 'D', 'K': 'E', 'L': 'J', 'M': 'A', 'N': 'H', 'O': 'Z', 'P': 'G', 'Q': 'S', 'R': 'I', 'S': 'M', 'T': 'O', 'U': 'C', 'V': 'Q', 'W': 'K', 'X': 'R', 'Y': 'V', 'Z': 'U'}\n"
     ]
    }
   ],
   "source": [
    "codigo.update({chave.upper():valor.upper() for chave, valor in zip(letras, letras_codificadas)})\n",
    "print(codigo)"
   ]
  },
  {
   "cell_type": "markdown",
   "metadata": {},
   "source": [
    "## Implementação\n",
    "\n",
    "Tudo que precisamos agora é pegar uma mensagem e **para cada letra** da mensagem **substituír pela chave**. Vamos criar uma função simples que substitui apenas uma letra e em seguida chamar a função para cada letra na mensagem.\n",
    "\n",
    "**OBS**: Caso um caractere da mensagem não esteja no dicionário, nossa função deve retornar a letra original.\n",
    "\n"
   ]
  },
  {
   "cell_type": "code",
   "execution_count": 53,
   "metadata": {},
   "outputs": [
    {
     "name": "stdout",
     "output_type": "stream",
     "text": [
      "b\n",
      "B\n",
      "r\n",
      "R\n"
     ]
    }
   ],
   "source": [
    "print(codigo[\"a\"])\n",
    "print(codigo[\"A\"])\n",
    "print(codigo[\"x\"])\n",
    "print(codigo[\"X\"])"
   ]
  },
  {
   "cell_type": "markdown",
   "metadata": {},
   "source": [
    "E se nos depararmos com um caractere que não está no código?\n",
    "\n",
    "Podemos usar o método `get` para retornar uma letra codificada ou um valor padrão."
   ]
  },
  {
   "cell_type": "code",
   "execution_count": 54,
   "metadata": {},
   "outputs": [
    {
     "name": "stdout",
     "output_type": "stream",
     "text": [
      "b\n",
      "B\n",
      "r\n",
      "R\n",
      "?\n",
      "@\n"
     ]
    }
   ],
   "source": [
    "print(codigo.get(\"a\"))\n",
    "print(codigo.get(\"A\"))\n",
    "print(codigo.get(\"x\"))\n",
    "print(codigo.get(\"X\"))\n",
    "print(codigo.get(\"?\", \"?\"))\n",
    "print(codigo.get(\"?\", \"@\"))"
   ]
  },
  {
   "cell_type": "markdown",
   "metadata": {},
   "source": [
    "Para codificar nossa mensagem podemos usar um loop e ir adicionando cada caractere codificado em uma lista. Uma alternativa mais simples é utilizar a função `map` com uma lambda function."
   ]
  },
  {
   "cell_type": "code",
   "execution_count": 55,
   "metadata": {},
   "outputs": [
    {
     "name": "stdout",
     "output_type": "stream",
     "text": [
      "Bobsct bz thobiwtnti\n"
     ]
    }
   ],
   "source": [
    "f = lambda x: codigo.get(x, x)\n",
    "\n",
    "# Vamos tentar construir a linha abaixo passo-a-passo\n",
    "mensagem_codificada = \"\".join(list(map(f, \"Ataque ao entardecer\")))\n",
    "print(mensagem_codificada)"
   ]
  },
  {
   "cell_type": "markdown",
   "metadata": {},
   "source": [
    "## Vamos melhorar\n",
    "\n",
    "Vamos agora criar uma função que recebe uma mensagem para codificar e um dicionário como código. Nossa função deve retornar a mensagem codificada."
   ]
  },
  {
   "cell_type": "code",
   "execution_count": 56,
   "metadata": {},
   "outputs": [],
   "source": [
    "def encripta(mensagem, codigo):\n",
    "    return \"\".join(list(map(lambda x: codigo.get(x, x), mensagem)))"
   ]
  },
  {
   "cell_type": "markdown",
   "metadata": {},
   "source": [
    "Com isso, agora é trivial por exemplo ler uma arquivo de texto e criar um arquivo com a mensagem criptografada."
   ]
  },
  {
   "cell_type": "code",
   "execution_count": 57,
   "metadata": {},
   "outputs": [
    {
     "name": "stdout",
     "output_type": "stream",
     "text": [
      "---------- Texto original ------------\n",
      "s no céu e na terra do que\n",
      "sonha a nossa filosofia. Era a mesma explicação que dava a bela Rita ao\n",
      "moço Camilo, numa sexta-feira de novembro de 1869, quando este ria dela,\n",
      "por ter ido na véspera consultar uma cartomante; a diferença é que o fazia\n",
      "por outras palavras.\n",
      "— Ria, ria. Os homens são assim; não acreditam em nada. Pois saiba que\n",
      "fui, e que ela adivinhou o motivo da consulta, antes mesmo que eu lhe\n",
      "dissesse o que era. Apenas começou a botar as cartas, disse-me: \"A senhora\n",
      "gosta de uma pessoa...\" Confessei que sim, e então ela continuou a botar as\n",
      "cartas, combinou-as, e no fim declarou-m\n",
      "--------------------------------------\n",
      "\n",
      "---------- Texto codificado ----------\n",
      "m hz néc t hb otiib wz sct\n",
      "mzhxb b hzmmb pyjzmzpyb. Tib b atmab trgjynbçãz sct wbqb b ltjb Iyob bz\n",
      "azçz Nbayjz, hcab mtrob-ptyib wt hzqtaliz wt 1869, scbhwz tmot iyb wtjb,\n",
      "gzi oti ywz hb qémgtib nzhmcjobi cab nbiozabhot; b wyptithçb é sct z pbuyb\n",
      "gzi zcoibm gbjbqibm.\n",
      "— Iyb, iyb. Zm xzathm mãz bmmya; hãz bnitwyoba ta hbwb. Gzym mbylb sct\n",
      "pcy, t sct tjb bwyqyhxzc z azoyqz wb nzhmcjob, bhotm atmaz sct tc jxt\n",
      "wymmtmmt z sct tib. Bgthbm nzatçzc b lzobi bm nbiobm, wymmt-at: \"B mthxzib\n",
      "fzmob wt cab gtmmzb...\" Nzhptmmty sct mya, t thoãz tjb nzhoyhczc b lzobi bm\n",
      "nbiobm, nzalyhzc-bm, t hz pya wtnjbizc-a\n",
      "--------------------------------------\n",
      "\n"
     ]
    }
   ],
   "source": [
    "fid1 = open(\"a-cartomante-machado-de-assis.txt\")\n",
    "texto = fid1.read()\n",
    "fid1.close()\n",
    "\n",
    "print(\"---------- Texto original ------------\")\n",
    "print(texto[900:1500])\n",
    "print(\"--------------------------------------\\n\")\n",
    "\n",
    "print(\"---------- Texto codificado ----------\")\n",
    "texto_codificado = \"\".join(list(map(lambda x: codigo.get(x, x), texto)))\n",
    "print(texto_codificado[900:1500])\n",
    "print(\"--------------------------------------\\n\")"
   ]
  },
  {
   "cell_type": "code",
   "execution_count": 58,
   "metadata": {},
   "outputs": [],
   "source": [
    "# Salva o texto codificado em um arquivo\n",
    "with open(\"a-cartomante-machado-de-assis-codificado.txt\", mode='w') as fid2:\n",
    "    fid2.write(texto_codificado)"
   ]
  }
 ],
 "metadata": {
  "kernelspec": {
   "display_name": "Python 3",
   "language": "python",
   "name": "python3"
  },
  "language_info": {
   "codemirror_mode": {
    "name": "ipython",
    "version": 3
   },
   "file_extension": ".py",
   "mimetype": "text/x-python",
   "name": "python",
   "nbconvert_exporter": "python",
   "pygments_lexer": "ipython3",
   "version": "3.6.6"
  }
 },
 "nbformat": 4,
 "nbformat_minor": 2
}
